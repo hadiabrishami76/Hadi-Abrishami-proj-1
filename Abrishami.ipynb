{
  "nbformat": 4,
  "nbformat_minor": 0,
  "metadata": {
    "colab": {
      "name": "Abrishami.ipynb",
      "provenance": [],
      "collapsed_sections": [],
      "toc_visible": true,
      "include_colab_link": true
    },
    "kernelspec": {
      "name": "python3",
      "display_name": "Python 3"
    }
  },
  "cells": [
    {
      "cell_type": "markdown",
      "metadata": {
        "id": "view-in-github",
        "colab_type": "text"
      },
      "source": [
        "<a href=\"https://colab.research.google.com/github/hadiabrishami76/Hadi-Abrishami-proj-1/blob/main/Abrishami.ipynb\" target=\"_parent\"><img src=\"https://colab.research.google.com/assets/colab-badge.svg\" alt=\"Open In Colab\"/></a>"
      ]
    },
    {
      "cell_type": "code",
      "metadata": {
        "id": "CDaQQVuXjTdb",
        "colab": {
          "base_uri": "https://localhost:8080/"
        },
        "outputId": "59b54908-8348-4a38-8ac4-80dbb24315cc"
      },
      "source": [
        "!pip install keras\r\n",
        "!pip install nltk\r\n",
        "!pip install hazm\r\n",
        "!pip install stopwords_guilannlp"
      ],
      "execution_count": null,
      "outputs": [
        {
          "output_type": "stream",
          "text": [
            "Requirement already satisfied: keras in /usr/local/lib/python3.6/dist-packages (2.4.3)\n",
            "Requirement already satisfied: h5py in /usr/local/lib/python3.6/dist-packages (from keras) (2.10.0)\n",
            "Requirement already satisfied: pyyaml in /usr/local/lib/python3.6/dist-packages (from keras) (3.13)\n",
            "Requirement already satisfied: numpy>=1.9.1 in /usr/local/lib/python3.6/dist-packages (from keras) (1.19.5)\n",
            "Requirement already satisfied: scipy>=0.14 in /usr/local/lib/python3.6/dist-packages (from keras) (1.4.1)\n",
            "Requirement already satisfied: six in /usr/local/lib/python3.6/dist-packages (from h5py->keras) (1.15.0)\n",
            "Requirement already satisfied: nltk in /usr/local/lib/python3.6/dist-packages (3.2.5)\n",
            "Requirement already satisfied: six in /usr/local/lib/python3.6/dist-packages (from nltk) (1.15.0)\n",
            "Collecting hazm\n",
            "\u001b[?25l  Downloading https://files.pythonhosted.org/packages/22/13/5a7074bc11d20dbbb46239349ac3f85f7edc148b4cf68e9b8c2f8263830c/hazm-0.7.0-py3-none-any.whl (316kB)\n",
            "\u001b[K     |████████████████████████████████| 317kB 12.5MB/s \n",
            "\u001b[?25hCollecting libwapiti>=0.2.1; platform_system != \"Windows\"\n",
            "\u001b[?25l  Downloading https://files.pythonhosted.org/packages/bc/0f/1c9b49bb49821b5856a64ea6fac8d96a619b9f291d1f06999ea98a32c89c/libwapiti-0.2.1.tar.gz (233kB)\n",
            "\u001b[K     |████████████████████████████████| 235kB 35.6MB/s \n",
            "\u001b[?25hCollecting nltk==3.3\n",
            "\u001b[?25l  Downloading https://files.pythonhosted.org/packages/50/09/3b1755d528ad9156ee7243d52aa5cd2b809ef053a0f31b53d92853dd653a/nltk-3.3.0.zip (1.4MB)\n",
            "\u001b[K     |████████████████████████████████| 1.4MB 13.6MB/s \n",
            "\u001b[?25hRequirement already satisfied: six in /usr/local/lib/python3.6/dist-packages (from libwapiti>=0.2.1; platform_system != \"Windows\"->hazm) (1.15.0)\n",
            "Building wheels for collected packages: libwapiti, nltk\n",
            "  Building wheel for libwapiti (setup.py) ... \u001b[?25l\u001b[?25hdone\n",
            "  Created wheel for libwapiti: filename=libwapiti-0.2.1-cp36-cp36m-linux_x86_64.whl size=154546 sha256=67ffbdf549345b51e8a6a416f638ac059485c0d0f1eed5d428beb3992ff4a4b2\n",
            "  Stored in directory: /root/.cache/pip/wheels/66/15/54/4510dce8bb958b1cdd2c47425cbd1e1eecc0480ac9bb1fb9ab\n",
            "  Building wheel for nltk (setup.py) ... \u001b[?25l\u001b[?25hdone\n",
            "  Created wheel for nltk: filename=nltk-3.3-cp36-none-any.whl size=1394471 sha256=5f707bf940851e41f962fef65ec9a9be8640f01ab18f5d5258b91cfe8ce60c55\n",
            "  Stored in directory: /root/.cache/pip/wheels/d1/ab/40/3bceea46922767e42986aef7606a600538ca80de6062dc266c\n",
            "Successfully built libwapiti nltk\n",
            "Installing collected packages: libwapiti, nltk, hazm\n",
            "  Found existing installation: nltk 3.2.5\n",
            "    Uninstalling nltk-3.2.5:\n",
            "      Successfully uninstalled nltk-3.2.5\n",
            "Successfully installed hazm-0.7.0 libwapiti-0.2.1 nltk-3.3\n",
            "Collecting stopwords_guilannlp\n",
            "  Downloading https://files.pythonhosted.org/packages/44/bc/a01c003b59a91187e89d11e73e8bb2834bb9ae6b36fe576a4b617c90bd23/stopwords_guilannlp-13.2019.3.5-py3-none-any.whl\n",
            "Installing collected packages: stopwords-guilannlp\n",
            "Successfully installed stopwords-guilannlp-13.2019.3.5\n"
          ],
          "name": "stdout"
        }
      ]
    },
    {
      "cell_type": "markdown",
      "metadata": {
        "id": "zpDra5P29gRd"
      },
      "source": [
        "# New Section"
      ]
    },
    {
      "cell_type": "markdown",
      "metadata": {
        "id": "Oz6sqDWc9g-f"
      },
      "source": [
        "# New Section"
      ]
    },
    {
      "cell_type": "code",
      "metadata": {
        "colab": {
          "base_uri": "https://localhost:8080/"
        },
        "id": "496QjqHn1dmU",
        "outputId": "df99b1b3-b9d5-4418-f45e-70008f944c72"
      },
      "source": [
        "import nltk\r\n",
        "nltk.download('punkt')"
      ],
      "execution_count": null,
      "outputs": [
        {
          "output_type": "stream",
          "text": [
            "[nltk_data] Downloading package punkt to /root/nltk_data...\n",
            "[nltk_data]   Unzipping tokenizers/punkt.zip.\n"
          ],
          "name": "stdout"
        },
        {
          "output_type": "execute_result",
          "data": {
            "text/plain": [
              "True"
            ]
          },
          "metadata": {
            "tags": []
          },
          "execution_count": 2
        }
      ]
    },
    {
      "cell_type": "code",
      "metadata": {
        "colab": {
          "base_uri": "https://localhost:8080/"
        },
        "id": "hkMjeywL1loA",
        "outputId": "ca8f85cd-1125-4fae-adb2-e2ef914cb3c0"
      },
      "source": [
        "import pandas as pd\r\n",
        "from keras.preprocessing.text import Tokenizer\r\n",
        "from keras.preprocessing.sequence import pad_sequences\r\n",
        "from keras.models import Sequential\r\n",
        "from keras.layers import Dense, Embedding, LSTM, SpatialDropout1D\r\n",
        "from sklearn.model_selection import train_test_split\r\n",
        "from keras.utils.np_utils import to_categorical\r\n",
        "from keras.callbacks import EarlyStopping\r\n",
        "from keras.layers import Dropout\r\n",
        "from sklearn.metrics import classification_report, confusion_matrix\r\n",
        "from hazm import *\r\n",
        "from stopwords_guilannlp import *\r\n",
        "from nltk.tokenize import RegexpTokenizer\r\n",
        "import numpy as np\r\n",
        "import math\r\n",
        "import re\r\n",
        "import matplotlib as mpl\r\n",
        "import matplotlib.pyplot as plt\r\n",
        "import seaborn as sb\r\n",
        "from mpl_toolkits.axes_grid1 import make_axes_locatable\r\n",
        "from copy import deepcopy\r\n",
        "from string import punctuation\r\n",
        "import random\r\n",
        "import tensorflow as tf\r\n",
        "from numpy import array\r\n",
        "from numpy import argmax\r\n",
        "from sklearn.preprocessing import LabelEncoder\r\n",
        "from sklearn.preprocessing import OneHotEncoder\r\n",
        "import json\r\n",
        "from tensorflow.keras.preprocessing.text import Tokenizer\r\n",
        "from tensorflow.keras.preprocessing.sequence import pad_sequences\r\n",
        "\r\n",
        "\r\n",
        "from nltk.stem import PorterStemmer\r\n",
        "import re\r\n",
        "import nltk\r\n",
        "nltk.download('stopwords')\r\n",
        "nltk.download('punkt')\r\n",
        "from nltk.corpus import stopwords\r\n",
        "\r\n",
        "import matplotlib.pyplot as plt\r\n",
        "import seaborn as sns\r\n",
        " "
      ],
      "execution_count": null,
      "outputs": [
        {
          "output_type": "stream",
          "text": [
            "[nltk_data] Downloading package stopwords to /root/nltk_data...\n",
            "[nltk_data]   Unzipping corpora/stopwords.zip.\n",
            "[nltk_data] Downloading package punkt to /root/nltk_data...\n",
            "[nltk_data]   Package punkt is already up-to-date!\n"
          ],
          "name": "stdout"
        }
      ]
    },
    {
      "cell_type": "code",
      "metadata": {
        "id": "0XUNgEn7WsTA"
      },
      "source": [
        "# The maximum number of words to be used. (most frequent)\r\n",
        "vocab_size = 50000\r\n",
        "\r\n",
        "# Dimension of the dense embedding.\r\n",
        "embedding_dim = 128\r\n",
        "\r\n",
        "# Max number of words in each complaint.\r\n",
        "max_length = 200\r\n",
        "\r\n",
        "# Truncate and padding options\r\n",
        "trunc_type = 'post'\r\n",
        "padding_type = 'post'\r\n",
        "oov_tok = '<OOV>'"
      ],
      "execution_count": null,
      "outputs": []
    },
    {
      "cell_type": "code",
      "metadata": {
        "id": "uN0tQdR3_7k-"
      },
      "source": [
        "import pandas as pd\r\n",
        "df=pd.read_excel(\"/content/Records_Com&Emo.xlsx\")\r\n",
        "df=df[['comment','Label']]"
      ],
      "execution_count": null,
      "outputs": []
    },
    {
      "cell_type": "code",
      "metadata": {
        "id": "grtQzbAdiDqA"
      },
      "source": [
        "original_text = df[\"comment\"].to_list()[:30]"
      ],
      "execution_count": null,
      "outputs": []
    },
    {
      "cell_type": "code",
      "metadata": {
        "colab": {
          "base_uri": "https://localhost:8080/",
          "height": 142
        },
        "id": "Ha05dSzOFhEc",
        "outputId": "cfc9c98c-f0b8-4949-dacd-b3efbe539aac"
      },
      "source": [
        "df.head(3)"
      ],
      "execution_count": null,
      "outputs": [
        {
          "output_type": "execute_result",
          "data": {
            "text/html": [
              "<div>\n",
              "<style scoped>\n",
              "    .dataframe tbody tr th:only-of-type {\n",
              "        vertical-align: middle;\n",
              "    }\n",
              "\n",
              "    .dataframe tbody tr th {\n",
              "        vertical-align: top;\n",
              "    }\n",
              "\n",
              "    .dataframe thead th {\n",
              "        text-align: right;\n",
              "    }\n",
              "</style>\n",
              "<table border=\"1\" class=\"dataframe\">\n",
              "  <thead>\n",
              "    <tr style=\"text-align: right;\">\n",
              "      <th></th>\n",
              "      <th>comment</th>\n",
              "      <th>Label</th>\n",
              "    </tr>\n",
              "  </thead>\n",
              "  <tbody>\n",
              "    <tr>\n",
              "      <th>0</th>\n",
              "      <td>جادار و زیبا (مخصوصا برای افرادی  که چای یا ما...</td>\n",
              "      <td>U0001F635</td>\n",
              "    </tr>\n",
              "    <tr>\n",
              "      <th>1</th>\n",
              "      <td>به سلیقه من خوشگل و زیباست ، کار را اندازه .</td>\n",
              "      <td>U0001F60A</td>\n",
              "    </tr>\n",
              "    <tr>\n",
              "      <th>2</th>\n",
              "      <td>بهترین اسپیکر تو این رنج قیمت همینه\\nچهار تا ت...</td>\n",
              "      <td>U0001F917</td>\n",
              "    </tr>\n",
              "  </tbody>\n",
              "</table>\n",
              "</div>"
            ],
            "text/plain": [
              "                                             comment      Label\n",
              "0  جادار و زیبا (مخصوصا برای افرادی  که چای یا ما...  U0001F635\n",
              "1       به سلیقه من خوشگل و زیباست ، کار را اندازه .  U0001F60A\n",
              "2  بهترین اسپیکر تو این رنج قیمت همینه\\nچهار تا ت...  U0001F917"
            ]
          },
          "metadata": {
            "tags": []
          },
          "execution_count": 7
        }
      ]
    },
    {
      "cell_type": "code",
      "metadata": {
        "id": "hcEwtAwxUH5j"
      },
      "source": [
        "# Lets do some text cleanup\r\n",
        "\r\n",
        "\r\n",
        "#for faster result, we define the following lines of code outside the 'preprocessing' function\r\n",
        "normalizer = Normalizer()\r\n",
        "stopwords = stopwords_output(\"Persian\", \"nar\")\r\n",
        "lemmatizer = Lemmatizer()\r\n",
        "stemmer = Stemmer()\r\n",
        "#--------------------------------\r\n",
        "REPLACE_BY_SPACE_RE = re.compile('[/(){}\\[\\]\\|@,;]')\r\n",
        "BAD_SYMBOLS_RE = re.compile('[^0-9a-z #+_]')\r\n",
        "REMOVE_NUM = re.compile('[\\d+]')\r\n",
        "STOPWORDS = stopwords\r\n",
        "\r\n",
        "def clean_text(text):\r\n",
        "    \"\"\"\r\n",
        "    text: a string\r\n",
        "    return: modified initial string\r\n",
        "    \"\"\"\r\n",
        "    # lowercase text\r\n",
        "    text = text.lower() \r\n",
        "\r\n",
        "    # replace REPLACE_BY_SPACE_RE symbols by space in text\r\n",
        "    text = REPLACE_BY_SPACE_RE.sub(' ', text) \r\n",
        "    \r\n",
        "    # Remove the XXXX values\r\n",
        "    text = text.replace('x', '') \r\n",
        "    \r\n",
        "    # Remove white space\r\n",
        "    text = REMOVE_NUM.sub('', text)\r\n",
        "\r\n",
        "    #  delete symbols which are in BAD_SYMBOLS_RE from text\r\n",
        "    text = BAD_SYMBOLS_RE.sub('', text) \r\n",
        "\r\n",
        "    text = ''.join(c for c in text if c not in punctuation)\r\n",
        "    text = normalizer.normalize(text)\r\n",
        "\r\n",
        "    # delete stopwords from text\r\n",
        "    text = ' '.join(word for word in text.split() if word not in STOPWORDS) \r\n",
        "    \r\n",
        "    # removes any words composed of less than 2 or more than 21 letters\r\n",
        "    text = ' '.join(word for word in text.split() if (len(word) >= 2 and len(word) <= 21))\r\n",
        "\r\n",
        "    # Stemming the words\r\n",
        "    text = ' '.join([stemmer.stem(word) for word in text.split()])\r\n",
        "    \r\n",
        "    return text"
      ],
      "execution_count": null,
      "outputs": []
    },
    {
      "cell_type": "code",
      "metadata": {
        "id": "6IWYG-EnUJSF"
      },
      "source": [
        "df[\"comment\"] = df[\"comment\"].apply(clean_text)\r\n",
        "\r\n",
        "# Shuffel the dataset to make sure we get an equal distribution of the data before splitting into train and test sets\r\n",
        "df = df.sample(frac=1)"
      ],
      "execution_count": null,
      "outputs": []
    },
    {
      "cell_type": "code",
      "metadata": {
        "colab": {
          "base_uri": "https://localhost:8080/",
          "height": 369
        },
        "id": "l7IIZGEWW9vd",
        "outputId": "6be7c4e6-8843-4b9f-e992-18cfd1ccbd12"
      },
      "source": [
        "sns.set_style('whitegrid')\r\n",
        "plt.figure(figsize=(6, 5))\r\n",
        "ax = sns.countplot(x='Label', data=df)\r\n",
        "ax.set_xticklabels(ax.get_xticklabels(), rotation=40, ha=\"right\")\r\n",
        "plt.tight_layout()"
      ],
      "execution_count": null,
      "outputs": [
        {
          "output_type": "display_data",
          "data": {
            "image/png": "[encoded data removed]",
            "text/plain": [
              "<Figure size 432x360 with 1 Axes>"
            ]
          },
          "metadata": {
            "tags": []
          }
        }
      ]
    },
    {
      "cell_type": "markdown",
      "metadata": {
        "id": "J4YynJZKzWFo"
      },
      "source": [
        "اسامی ایموجی خودتان را وارد کنید :"
      ]
    },
    {
      "cell_type": "code",
      "metadata": {
        "id": "Vxm9tscB5igJ",
        "colab": {
          "base_uri": "https://localhost:8080/",
          "height": 374
        },
        "outputId": "5e73c686-3ff6-4c35-e22c-cd81da3d03a3"
      },
      "source": [
        "emoji=pd.read_csv('/content/Emoji_Label12000.csv')"
      ],
      "execution_count": null,
      "outputs": [
        {
          "output_type": "error",
          "ename": "FileNotFoundError",
          "evalue": "ignored",
          "traceback": [
            "\u001b[0;31m---------------------------------------------------------------------------\u001b[0m",
            "\u001b[0;31mFileNotFoundError\u001b[0m                         Traceback (most recent call last)",
            "\u001b[0;32m<ipython-input-11-058ff5ff7af1>\u001b[0m in \u001b[0;36m<module>\u001b[0;34m()\u001b[0m\n\u001b[0;32m----> 1\u001b[0;31m \u001b[0memoji\u001b[0m\u001b[0;34m=\u001b[0m\u001b[0mpd\u001b[0m\u001b[0;34m.\u001b[0m\u001b[0mread_csv\u001b[0m\u001b[0;34m(\u001b[0m\u001b[0;34m'/content/Emoji_Label12000.csv'\u001b[0m\u001b[0;34m)\u001b[0m\u001b[0;34m\u001b[0m\u001b[0;34m\u001b[0m\u001b[0m\n\u001b[0m",
            "\u001b[0;32m/usr/local/lib/python3.6/dist-packages/pandas/io/parsers.py\u001b[0m in \u001b[0;36mread_csv\u001b[0;34m(filepath_or_buffer, sep, delimiter, header, names, index_col, usecols, squeeze, prefix, mangle_dupe_cols, dtype, engine, converters, true_values, false_values, skipinitialspace, skiprows, skipfooter, nrows, na_values, keep_default_na, na_filter, verbose, skip_blank_lines, parse_dates, infer_datetime_format, keep_date_col, date_parser, dayfirst, cache_dates, iterator, chunksize, compression, thousands, decimal, lineterminator, quotechar, quoting, doublequote, escapechar, comment, encoding, dialect, error_bad_lines, warn_bad_lines, delim_whitespace, low_memory, memory_map, float_precision)\u001b[0m\n\u001b[1;32m    686\u001b[0m     )\n\u001b[1;32m    687\u001b[0m \u001b[0;34m\u001b[0m\u001b[0m\n\u001b[0;32m--> 688\u001b[0;31m     \u001b[0;32mreturn\u001b[0m \u001b[0m_read\u001b[0m\u001b[0;34m(\u001b[0m\u001b[0mfilepath_or_buffer\u001b[0m\u001b[0;34m,\u001b[0m \u001b[0mkwds\u001b[0m\u001b[0;34m)\u001b[0m\u001b[0;34m\u001b[0m\u001b[0;34m\u001b[0m\u001b[0m\n\u001b[0m\u001b[1;32m    689\u001b[0m \u001b[0;34m\u001b[0m\u001b[0m\n\u001b[1;32m    690\u001b[0m \u001b[0;34m\u001b[0m\u001b[0m\n",
            "\u001b[0;32m/usr/local/lib/python3.6/dist-packages/pandas/io/parsers.py\u001b[0m in \u001b[0;36m_read\u001b[0;34m(filepath_or_buffer, kwds)\u001b[0m\n\u001b[1;32m    452\u001b[0m \u001b[0;34m\u001b[0m\u001b[0m\n\u001b[1;32m    453\u001b[0m     \u001b[0;31m# Create the parser.\u001b[0m\u001b[0;34m\u001b[0m\u001b[0;34m\u001b[0m\u001b[0;34m\u001b[0m\u001b[0m\n\u001b[0;32m--> 454\u001b[0;31m     \u001b[0mparser\u001b[0m \u001b[0;34m=\u001b[0m \u001b[0mTextFileReader\u001b[0m\u001b[0;34m(\u001b[0m\u001b[0mfp_or_buf\u001b[0m\u001b[0;34m,\u001b[0m \u001b[0;34m**\u001b[0m\u001b[0mkwds\u001b[0m\u001b[0;34m)\u001b[0m\u001b[0;34m\u001b[0m\u001b[0;34m\u001b[0m\u001b[0m\n\u001b[0m\u001b[1;32m    455\u001b[0m \u001b[0;34m\u001b[0m\u001b[0m\n\u001b[1;32m    456\u001b[0m     \u001b[0;32mif\u001b[0m \u001b[0mchunksize\u001b[0m \u001b[0;32mor\u001b[0m \u001b[0miterator\u001b[0m\u001b[0;34m:\u001b[0m\u001b[0;34m\u001b[0m\u001b[0;34m\u001b[0m\u001b[0m\n",
            "\u001b[0;32m/usr/local/lib/python3.6/dist-packages/pandas/io/parsers.py\u001b[0m in \u001b[0;36m__init__\u001b[0;34m(self, f, engine, **kwds)\u001b[0m\n\u001b[1;32m    946\u001b[0m             \u001b[0mself\u001b[0m\u001b[0;34m.\u001b[0m\u001b[0moptions\u001b[0m\u001b[0;34m[\u001b[0m\u001b[0;34m\"has_index_names\"\u001b[0m\u001b[0;34m]\u001b[0m \u001b[0;34m=\u001b[0m \u001b[0mkwds\u001b[0m\u001b[0;34m[\u001b[0m\u001b[0;34m\"has_index_names\"\u001b[0m\u001b[0;34m]\u001b[0m\u001b[0;34m\u001b[0m\u001b[0;34m\u001b[0m\u001b[0m\n\u001b[1;32m    947\u001b[0m \u001b[0;34m\u001b[0m\u001b[0m\n\u001b[0;32m--> 948\u001b[0;31m         \u001b[0mself\u001b[0m\u001b[0;34m.\u001b[0m\u001b[0m_make_engine\u001b[0m\u001b[0;34m(\u001b[0m\u001b[0mself\u001b[0m\u001b[0;34m.\u001b[0m\u001b[0mengine\u001b[0m\u001b[0;34m)\u001b[0m\u001b[0;34m\u001b[0m\u001b[0;34m\u001b[0m\u001b[0m\n\u001b[0m\u001b[1;32m    949\u001b[0m \u001b[0;34m\u001b[0m\u001b[0m\n\u001b[1;32m    950\u001b[0m     \u001b[0;32mdef\u001b[0m \u001b[0mclose\u001b[0m\u001b[0;34m(\u001b[0m\u001b[0mself\u001b[0m\u001b[0;34m)\u001b[0m\u001b[0;34m:\u001b[0m\u001b[0;34m\u001b[0m\u001b[0;34m\u001b[0m\u001b[0m\n",
            "\u001b[0;32m/usr/local/lib/python3.6/dist-packages/pandas/io/parsers.py\u001b[0m in \u001b[0;36m_make_engine\u001b[0;34m(self, engine)\u001b[0m\n\u001b[1;32m   1178\u001b[0m     \u001b[0;32mdef\u001b[0m \u001b[0m_make_engine\u001b[0m\u001b[0;34m(\u001b[0m\u001b[0mself\u001b[0m\u001b[0;34m,\u001b[0m \u001b[0mengine\u001b[0m\u001b[0;34m=\u001b[0m\u001b[0;34m\"c\"\u001b[0m\u001b[0;34m)\u001b[0m\u001b[0;34m:\u001b[0m\u001b[0;34m\u001b[0m\u001b[0;34m\u001b[0m\u001b[0m\n\u001b[1;32m   1179\u001b[0m         \u001b[0;32mif\u001b[0m \u001b[0mengine\u001b[0m \u001b[0;34m==\u001b[0m \u001b[0;34m\"c\"\u001b[0m\u001b[0;34m:\u001b[0m\u001b[0;34m\u001b[0m\u001b[0;34m\u001b[0m\u001b[0m\n\u001b[0;32m-> 1180\u001b[0;31m             \u001b[0mself\u001b[0m\u001b[0;34m.\u001b[0m\u001b[0m_engine\u001b[0m \u001b[0;34m=\u001b[0m \u001b[0mCParserWrapper\u001b[0m\u001b[0;34m(\u001b[0m\u001b[0mself\u001b[0m\u001b[0;34m.\u001b[0m\u001b[0mf\u001b[0m\u001b[0;34m,\u001b[0m \u001b[0;34m**\u001b[0m\u001b[0mself\u001b[0m\u001b[0;34m.\u001b[0m\u001b[0moptions\u001b[0m\u001b[0;34m)\u001b[0m\u001b[0;34m\u001b[0m\u001b[0;34m\u001b[0m\u001b[0m\n\u001b[0m\u001b[1;32m   1181\u001b[0m         \u001b[0;32melse\u001b[0m\u001b[0;34m:\u001b[0m\u001b[0;34m\u001b[0m\u001b[0;34m\u001b[0m\u001b[0m\n\u001b[1;32m   1182\u001b[0m             \u001b[0;32mif\u001b[0m \u001b[0mengine\u001b[0m \u001b[0;34m==\u001b[0m \u001b[0;34m\"python\"\u001b[0m\u001b[0;34m:\u001b[0m\u001b[0;34m\u001b[0m\u001b[0;34m\u001b[0m\u001b[0m\n",
            "\u001b[0;32m/usr/local/lib/python3.6/dist-packages/pandas/io/parsers.py\u001b[0m in \u001b[0;36m__init__\u001b[0;34m(self, src, **kwds)\u001b[0m\n\u001b[1;32m   2008\u001b[0m         \u001b[0mkwds\u001b[0m\u001b[0;34m[\u001b[0m\u001b[0;34m\"usecols\"\u001b[0m\u001b[0;34m]\u001b[0m \u001b[0;34m=\u001b[0m \u001b[0mself\u001b[0m\u001b[0;34m.\u001b[0m\u001b[0musecols\u001b[0m\u001b[0;34m\u001b[0m\u001b[0;34m\u001b[0m\u001b[0m\n\u001b[1;32m   2009\u001b[0m \u001b[0;34m\u001b[0m\u001b[0m\n\u001b[0;32m-> 2010\u001b[0;31m         \u001b[0mself\u001b[0m\u001b[0;34m.\u001b[0m\u001b[0m_reader\u001b[0m \u001b[0;34m=\u001b[0m \u001b[0mparsers\u001b[0m\u001b[0;34m.\u001b[0m\u001b[0mTextReader\u001b[0m\u001b[0;34m(\u001b[0m\u001b[0msrc\u001b[0m\u001b[0;34m,\u001b[0m \u001b[0;34m**\u001b[0m\u001b[0mkwds\u001b[0m\u001b[0;34m)\u001b[0m\u001b[0;34m\u001b[0m\u001b[0;34m\u001b[0m\u001b[0m\n\u001b[0m\u001b[1;32m   2011\u001b[0m         \u001b[0mself\u001b[0m\u001b[0;34m.\u001b[0m\u001b[0munnamed_cols\u001b[0m \u001b[0;34m=\u001b[0m \u001b[0mself\u001b[0m\u001b[0;34m.\u001b[0m\u001b[0m_reader\u001b[0m\u001b[0;34m.\u001b[0m\u001b[0munnamed_cols\u001b[0m\u001b[0;34m\u001b[0m\u001b[0;34m\u001b[0m\u001b[0m\n\u001b[1;32m   2012\u001b[0m \u001b[0;34m\u001b[0m\u001b[0m\n",
            "\u001b[0;32mpandas/_libs/parsers.pyx\u001b[0m in \u001b[0;36mpandas._libs.parsers.TextReader.__cinit__\u001b[0;34m()\u001b[0m\n",
            "\u001b[0;32mpandas/_libs/parsers.pyx\u001b[0m in \u001b[0;36mpandas._libs.parsers.TextReader._setup_parser_source\u001b[0;34m()\u001b[0m\n",
            "\u001b[0;31mFileNotFoundError\u001b[0m: [Errno 2] No such file or directory: '/content/Emoji_Label12000.csv'"
          ]
        }
      ]
    },
    {
      "cell_type": "code",
      "metadata": {
        "id": "5F-zXI7w6SzW"
      },
      "source": [
        "emoj=emoji.Code"
      ],
      "execution_count": null,
      "outputs": []
    },
    {
      "cell_type": "code",
      "metadata": {
        "id": "dTB-QJwD6Xsq"
      },
      "source": [
        "emoj"
      ],
      "execution_count": null,
      "outputs": []
    },
    {
      "cell_type": "code",
      "metadata": {
        "id": "9mU8hO-dXk3w"
      },
      "source": [
        "i=0\r\n",
        "while i < len(df):\r\n",
        "\r\n",
        "  if df['Label'][i]==emoj[0]:\r\n",
        "    df['Label'][i]=1\r\n",
        "  if df['Label'][i]==emoj[1]:\r\n",
        "    df['Label'][i]=2\r\n",
        "  if df['Label'][i]==emoj[2]:\r\n",
        "    df['Label'][i]=3\r\n",
        "  if df['Label'][i]==emoj[3]:\r\n",
        "    df['Label'][i]=4\r\n",
        "  if df['Label'][i]==emoj[4]:\r\n",
        "    df['Label'][i]=5\r\n",
        "  if df['Label'][i]==emoj[5]:\r\n",
        "    df['Label'][i]=6\r\n",
        "  if df['Label'][i]==emoj[6]:\r\n",
        "    df['Label'][i]=7  \r\n",
        "  if df['Label'][i]==emoj[7]:\r\n",
        "    df['Label'][i]=8\r\n",
        "  if df['Label'][i]==emoj[8]:\r\n",
        "    df['Label'][i]=9\r\n",
        "  if df['Label'][i]==emoj[9]:\r\n",
        "    df['Label'][i]=10\r\n",
        "\r\n",
        "  i+=1\r\n",
        "#------------------------------------------------------------\r\n",
        "sns.set_style('whitegrid')\r\n",
        "plt.figure(figsize=(6, 5))\r\n",
        "ax = sns.countplot(x='Label', data=df)\r\n",
        "ax.set_xticklabels(ax.get_xticklabels(), rotation=40, ha=\"right\")\r\n",
        "plt.tight_layout()"
      ],
      "execution_count": null,
      "outputs": []
    },
    {
      "cell_type": "code",
      "metadata": {
        "id": "g9quYnXaTSg7"
      },
      "source": [
        "from sklearn.model_selection import train_test_split\r\n",
        "complaints =df['comment'].values\r\n",
        "labels = df['Label'].values\r\n",
        "X_train, y_train, X_test, y_test = train_test_split(complaints,labels, test_size = 0.20, random_state = 42)\r\n",
        "print(X_train.shape,X_test.shape)\r\n",
        "print(y_train.shape,y_test.shape)"
      ],
      "execution_count": null,
      "outputs": []
    },
    {
      "cell_type": "code",
      "metadata": {
        "id": "10lvsA0kU5aU"
      },
      "source": [
        "tokenizer = Tokenizer(num_words=vocab_size, oov_token='<OOV>')\r\n",
        "tokenizer.fit_on_texts(X_train)\r\n",
        "word_index = tokenizer.word_index\r\n",
        "print('Found %s unique tokens.' % len(word_index))\r\n",
        "dict(list(word_index.items())[0:10])\r\n",
        "\r\n",
        "\"\"\"\r\n",
        "Found 5047 unique tokens.\r\n",
        "{'<OOV>': 1,\r\n",
        " 'account': 2,\r\n",
        " 'call': 7,\r\n",
        " 'credit': 3,\r\n",
        " 'debt': 9,\r\n",
        " 'inform': 8,\r\n",
        " 'loan': 6,\r\n",
        " 'payment': 5,\r\n",
        " 'receiv': 10,\r\n",
        " 'report': 4}\r\n",
        "\"\"\"\r\n",
        "\r\n",
        "train_seq = tokenizer.texts_to_sequences(X_train)\r\n",
        "train_padded = pad_sequences(train_seq, maxlen=max_length, padding=padding_type, truncating=trunc_type)\r\n",
        "\r\n",
        "validation_seq = tokenizer.texts_to_sequences(y_train)\r\n",
        "validation_padded = pad_sequences(validation_seq, maxlen=max_length, padding=padding_type, truncating=trunc_type)\r\n",
        "print('Shape of data tensor:', train_padded.shape)\r\n",
        "print('Shape of data tensor:', validation_padded.shape)"
      ],
      "execution_count": null,
      "outputs": []
    },
    {
      "cell_type": "code",
      "metadata": {
        "id": "ggotjdZxb0I9"
      },
      "source": [
        "encode = OneHotEncoder()\r\n",
        "X_test = X_test.reshape(len(X_test), 1)\r\n",
        "y_test = y_test.reshape(len(y_test), 1)\r\n",
        "training_labels = encode.fit_transform(X_test)\r\n",
        "validation_labels = encode.transform(y_test)"
      ],
      "execution_count": null,
      "outputs": []
    },
    {
      "cell_type": "code",
      "metadata": {
        "id": "sPGp9b-TVUQw"
      },
      "source": [
        "print(train_padded.shape)\r\n",
        "print(validation_labels.shape)\r\n",
        "print(validation_padded.shape)\r\n",
        "print(training_labels.shape)\r\n",
        "print(type(train_padded))\r\n",
        "print(type(validation_padded))\r\n",
        "print(type(training_labels))\r\n",
        "print(type(validation_labels))"
      ],
      "execution_count": null,
      "outputs": []
    },
    {
      "cell_type": "code",
      "metadata": {
        "id": "QDmwNuuVVYGm"
      },
      "source": [
        "# The labels must be converted to arrays\r\n",
        "# Convert the labels to arrays\r\n",
        "training_labels = training_labels.toarray()\r\n",
        "validation_labels = validation_labels.toarray()\r\n",
        "\r\n",
        "print(type(training_labels))\r\n",
        "print(type(validation_labels))"
      ],
      "execution_count": null,
      "outputs": []
    },
    {
      "cell_type": "code",
      "metadata": {
        "id": "zoSqfkdeVfXe"
      },
      "source": [
        "from tensorflow.keras import Sequential\r\n",
        "from tensorflow.keras.layers import Flatten, Dense, Embedding, Conv1D, GlobalMaxPooling1D, Dropout\r\n",
        "from tensorflow.keras.callbacks import EarlyStopping, ReduceLROnPlateau\r\n",
        "\r\n",
        "\r\n",
        "\r\n",
        "model = Sequential()\r\n",
        "model.add(Embedding(vocab_size, embedding_dim, input_length=train_padded.shape[1]))\r\n",
        "\r\n",
        "model.add(Conv1D(48, 10, activation='relu', padding='valid'))\r\n",
        "model.add(GlobalMaxPooling1D())\r\n",
        "model.add(Dropout(0.5))\r\n",
        "\r\n",
        "model.add(Flatten())\r\n",
        "model.add(Dropout(0.5))\r\n",
        "\r\n",
        "model.add(Dense(10, activation='softmax'))\r\n",
        "model.compile(loss='categorical_crossentropy', optimizer='adam', metrics=['accuracy'])\r\n",
        "\r\n",
        "epochs = 100\r\n",
        "batch_size = 32\r\n",
        "\r\n",
        "history = model.fit(train_padded, training_labels, shuffle=True ,\r\n",
        "                    epochs=epochs, batch_size=batch_size, \r\n",
        "                    validation_split=0.2,\r\n",
        "                    callbacks=[ReduceLROnPlateau(monitor='val_loss', factor=0.2, patience=10, min_lr=0.0001), \r\n",
        "                               EarlyStopping(monitor='val_loss', mode='min', patience=10, verbose=1),\r\n",
        "                               EarlyStopping(monitor='val_accuracy', mode='max', patience=10, verbose=1)])"
      ],
      "execution_count": null,
      "outputs": []
    },
    {
      "cell_type": "code",
      "metadata": {
        "id": "iPZR9YbdVi7u"
      },
      "source": [
        "plt.title('Loss')\r\n",
        "plt.plot(history.history['loss'], label='train')\r\n",
        "plt.plot(history.history['val_loss'], label='test')\r\n",
        "plt.legend()\r\n",
        "plt.show();"
      ],
      "execution_count": null,
      "outputs": []
    },
    {
      "cell_type": "code",
      "metadata": {
        "id": "ycrMHbu_Vluu"
      },
      "source": [
        "plt.title('Accuracy')\r\n",
        "plt.plot(history.history['accuracy'], label='train')\r\n",
        "plt.plot(history.history['val_accuracy'], label='test')\r\n",
        "plt.legend()\r\n",
        "plt.show();"
      ],
      "execution_count": null,
      "outputs": []
    },
    {
      "cell_type": "code",
      "metadata": {
        "id": "6EOlXRwHeTzr"
      },
      "source": [
        "from sklearn.metrics import accuracy_score, precision_score, recall_score, f1_score, confusion_matrix, classification_report"
      ],
      "execution_count": null,
      "outputs": []
    },
    {
      "cell_type": "code",
      "metadata": {
        "id": "kCJhmSEtVrso"
      },
      "source": [
        "# First we create an evaluation function to output all the needs metrics\r\n",
        "\r\n",
        "def evaluate_preds(y_true, y_preds):\r\n",
        "    \"\"\"\r\n",
        "    Performs evaluation comparison on y_true labels vs. y_pred labels\r\n",
        "    on a classification.\r\n",
        "    \"\"\"\r\n",
        "    accuracy = accuracy_score(y_true, y_preds)\r\n",
        "    precision = precision_score(y_true, y_preds, average='micro')\r\n",
        "    recall = recall_score(y_true, y_preds, average='micro')\r\n",
        "    f1 = f1_score(y_true, y_preds, average='micro')\r\n",
        "    metric_dict = {\"accuracy\": round(accuracy, 2),\r\n",
        "                   \"precision\": round(precision, 2),\r\n",
        "                   \"recall\": round(recall, 2),\r\n",
        "                   \"f1\": round(f1, 2)}\r\n",
        "    print(f\"Acc: {accuracy * 100:.2f}%\")\r\n",
        "    print(f\"Precision: {precision:.2f}\")\r\n",
        "    print(f\"Recall: {recall:.2f}\")\r\n",
        "    print(f\"F1 score: {f1:.2f}\")\r\n",
        "    \r\n",
        "    return metric_dict"
      ],
      "execution_count": null,
      "outputs": []
    },
    {
      "cell_type": "code",
      "metadata": {
        "id": "UnLYw9iUVrpE"
      },
      "source": [
        "# Now we make predictions using the test data to see how the model performs\r\n",
        "\r\n",
        "predicted = model.predict(validation_padded)\r\n",
        "evaluate_preds(np.argmax(validation_labels, axis=1), np.argmax(predicted, axis=1))"
      ],
      "execution_count": null,
      "outputs": []
    },
    {
      "cell_type": "code",
      "metadata": {
        "id": "HtsRpsl9egWW"
      },
      "source": [
        "from sklearn.metrics import accuracy_score, precision_score, recall_score, f1_score, confusion_matrix, classification_report\r\n",
        "from mlxtend.plotting import plot_confusion_matrix\r\n",
        "import sklearn.metrics as metrics"
      ],
      "execution_count": null,
      "outputs": []
    },
    {
      "cell_type": "code",
      "metadata": {
        "id": "77ozPnm3Vrmn"
      },
      "source": [
        "target_names=['1','2','3','4','5','6','7','8','9','10']\r\n",
        "print(classification_report(np.argmax(validation_labels,axis=1),  np.argmax(predicted, axis=1),target_names=target_names))"
      ],
      "execution_count": null,
      "outputs": []
    },
    {
      "cell_type": "code",
      "metadata": {
        "id": "bCCch9vDVtdO"
      },
      "source": [
        "conf_mat = confusion_matrix(np.argmax(validation_labels, axis=1), np.argmax(predicted, axis=1))\r\n",
        "fig, ax = plt.subplots(figsize=(8,6))\r\n",
        "sns.heatmap(conf_mat, annot=True, fmt='d',\r\n",
        "            xticklabels=df.Label.unique(), yticklabels=df.Label.unique())\r\n",
        "plt.ylabel('Actual')\r\n",
        "plt.xlabel('Predicted')\r\n",
        "plt.show()"
      ],
      "execution_count": null,
      "outputs": []
    },
    {
      "cell_type": "code",
      "metadata": {
        "id": "z4JqFSHFVtZg"
      },
      "source": [
        "#Test Model\r\n",
        "\r\n",
        "complaint = original_text[18]\r\n",
        "new_complaint = [clean_text(complaint)]\r\n",
        "print(complaint)\r\n",
        "print(new_complaint)\r\n",
        "seq = tokenizer.texts_to_sequences(new_complaint)\r\n",
        "padded = pad_sequences(seq, maxlen=max_length, padding=padding_type, truncating=trunc_type)\r\n",
        "pred = model.predict(padded)\r\n",
        "acc = model.predict_proba(padded)\r\n",
        "predicted_label = encode.inverse_transform(pred)\r\n",
        "print('')\r\n",
        "print(f'Product category id: {np.argmax(pred[0])}')\r\n",
        "print(f'Predicted label is: {predicted_label[0]}')\r\n",
        "print(f'Accuracy score: { acc.max() * 100}')"
      ],
      "execution_count": null,
      "outputs": []
    }
  ]
}